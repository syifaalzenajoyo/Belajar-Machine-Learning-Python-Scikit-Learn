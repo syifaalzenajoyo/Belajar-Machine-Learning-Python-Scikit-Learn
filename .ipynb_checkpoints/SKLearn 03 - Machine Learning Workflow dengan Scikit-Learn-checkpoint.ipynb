{
 "cells": [
  {
   "cell_type": "markdown",
   "metadata": {},
   "source": [
    "# SKLearn 03 - *Machine Learning Workflow* dengan *Scikit-Learn*"
   ]
  },
  {
   "cell_type": "markdown",
   "metadata": {},
   "source": [
    "## Persiapan *Dataset*"
   ]
  },
  {
   "cell_type": "markdown",
   "metadata": {},
   "source": [
    "### *Load Dataset*\n",
    "- Kita akan menggunakan iris dataset dengan mengimport `load_iris` dari `sklearn.datasets`\n",
    "- Memanggil iris dataset dengan `load_iris()` yang akan ditampung oleh variabel `iris`\n",
    "- Membuat variable `X` dan `y` yang akan menampung `iris.data` dan `iris.target`"
   ]
  },
  {
   "cell_type": "code",
   "execution_count": 2,
   "metadata": {},
   "outputs": [],
   "source": [
    "from sklearn.datasets import load_iris\n",
    "\n",
    "iris = load_iris()\n",
    "\n",
    "X = iris.data\n",
    "y = iris.target"
   ]
  },
  {
   "cell_type": "markdown",
   "metadata": {},
   "source": [
    "### *Splitting Dataset: Training & Testing Set*"
   ]
  },
  {
   "cell_type": "markdown",
   "metadata": {},
   "source": [
    "Sebelum melakukan proses training model, kita akan membagi dataset menjadi 2 bagian yaitu **training set** (*untuk melakukan proses training model*) dan **testing set** (*untuk melakukan proses evaluasi atau testing performa dari model yang sudah ditraining*) secara acak.\n",
    "- Mengimport function `train_test_split` dari `sklearn.model_selection`\n",
    "> from sklearn.model_selection import train_test_split\n",
    "- Melakukan splitting dataset dengan memanggil function `train_test_split()` yang disertai dengan 4 parameter, yaitu:\n",
    "    - Parameter pertama berupa featuresnya yaitu `X`\n",
    "    - Parameter pertama berupa targetnya yaitu `y`\n",
    "    - Paramter ketiga yang akan merepresentasikan ukuran dari testing sizenya (0<=test_size<=1). Misalkan `test_size = 0.4`, berarti proporsi dari test-setnya adalah 40% dan train-setnya adalah 60%.\n",
    "    - Parameter keempat yaitu random state number yang bertujuan untuk menghasilkan proses pengacakan yang konsisten sehingga kita dapat melakukan replikasi. Pada studi kasus ini, kita akan menentukan `random_state = 1`.\n",
    "- Menampung hasil dari `train_test_split()` ke dalam 4 variabel yaitu:\n",
    "    - X_train menampung features untuk training set\n",
    "    - X_test menampung features untuk testing set\n",
    "    - y_train menampung target untuk training set\n",
    "    - y_test menampung target untuk testing set"
   ]
  },
  {
   "cell_type": "code",
   "execution_count": 3,
   "metadata": {},
   "outputs": [],
   "source": [
    "from sklearn.model_selection import train_test_split\n",
    "\n",
    "X_train, X_test, y_train, y_test = train_test_split(X,\n",
    "                                                    y,\n",
    "                                                    test_size = 0.4,\n",
    "                                                    random_state = 1)"
   ]
  },
  {
   "cell_type": "markdown",
   "metadata": {},
   "source": [
    "## *Training Model*\n",
    "\n",
    "- Tahapan selanjutnya adalah menentukan model machine learning yang akan kita gunakan\n",
    "- Pada Scikit Learn, model machine learning dibentuk dari class yang dikenal dengan istilah ***estimator***.\n",
    "- Setiap estimator akan mengimplementasikan dua method utama, yaitu **`fit()`** dan **`predict()`**. \n",
    "- Method **`fit()`** digunakan untuk melakukan training model.\n",
    "- Method **`predict`** digunakan untuk melakukan esitimasi atau prediksi dengan memanfaatkan trained model.\n",
    "\n",
    "Untuk kasus kali ini, kita akan mengguunakan **KNeighborsClassifier** sebagai machine learning model.\n",
    "- Mengimport **KNeighborsClassifier** dari **sklearn.neighbors**\n",
    "> `from sklearn.neighbors import KNeighborsClassifier`\n",
    "- Membentuk object dari KNeighborsClassifier dengan menyertakan 1 buah parameter yaitu **`n_neighbors`** untuk menspesifikasikan banyak neighborsnya. Pada kasus kali ini, kita akan menentukan nilai n_neighborsnya adalah 3. Object yang terbentuk akan ditampung oleh variabel **model**.\n",
    "> `model = KNeighborsClassifier(n_neighbors=3)`\n",
    "- Object model yang terbentuk akan ditraining menggunakan method **`fit()`** dengan menyertakan 2 parameter.\n",
    "    - `X_train` yang berisi sekumpulan nilai features untuk training set.\n",
    "    - `y_train` yang berisi sekumpulan nilai target untuk training set.\n",
    "> `model.fit(X_train, y_train)`"
   ]
  },
  {
   "cell_type": "code",
   "execution_count": 4,
   "metadata": {},
   "outputs": [
    {
     "data": {
      "text/plain": [
       "KNeighborsClassifier(n_neighbors=3)"
      ]
     },
     "execution_count": 4,
     "metadata": {},
     "output_type": "execute_result"
    }
   ],
   "source": [
    "from sklearn.neighbors import KNeighborsClassifier\n",
    "\n",
    "model = KNeighborsClassifier(n_neighbors=3)\n",
    "model.fit(X_train, y_train)"
   ]
  },
  {
   "cell_type": "markdown",
   "metadata": {},
   "source": [
    "## Evaluasi Model\n",
    "\n",
    "Untuk melakukan evaluasi atau testing performa dari model yang telah ditraining sebelumnya, terdapat beberapa metrics yang dapat kita gunakan. Disini kita akan menggunakan **accuracy** sebagai metricsnya. \n",
    "\n",
    "- Mengimport metrics **accuracy_score** dari **sklearn.metrics**.\n",
    "> `from sklearn.metrics import accuracy_score`\n",
    "- Melakukan prediksi terhadap nilai features yang ada di testing dataset yaitu `X_test` dengan memanggil **`model.predict()`** yang hasilnya akan ditampung oleh variabel **y_pred**.\n",
    "> `y_pred = model.predict(X_test)`\n",
    "- Membandingkan nilai target pada testing dataset yaitu **y_test** dengan nilai target yang dihasilkan dari proses prediksi sebelumnya yaitu **y_pred**.\n",
    "> `acc = accuracy_score(y_test, y_pred)`\n",
    "- Menampilkan accuracy_score. Untuk kasus kali ini, accuracy_score yang dihasilkan adalah 0.9833333333333333 atau 98%.\n",
    "> `print(f'Accuracy: {acc}')`"
   ]
  },
  {
   "cell_type": "code",
   "execution_count": 5,
   "metadata": {},
   "outputs": [
    {
     "name": "stdout",
     "output_type": "stream",
     "text": [
      "Accuracy: 0.9833333333333333\n"
     ]
    }
   ],
   "source": [
    "from sklearn.metrics import accuracy_score\n",
    "\n",
    "y_pred = model.predict(X_test)\n",
    "acc = accuracy_score(y_test, y_pred)\n",
    "print(f'Accuracy: {acc}')"
   ]
  },
  {
   "cell_type": "markdown",
   "metadata": {},
   "source": [
    "## Pemanfaatan *Trained Model*\n",
    "Setelah trained model dinilai cukup baik berdasarkan hasil evaluasi, maka kita dapat menggunakan model yang telah ditraining tersebut untuk melakukan prediksi terhadap data baru.\n",
    "- Membuat dataset baru yang terdiri atas sekumpulan nilai features. Dataset yang dibuat terdiri dari dua baris yang setiap barisnya terdiri dari empat nilai features sesuai dengan banyak features yang dimiliki oleh dataset model.\n",
    "> `data_baru = [ [5, 5, 3, 2], [2, 4, 3, 5] ]`\n",
    "- Melakukan prediksi terhadap nilai features data_baru dengan memanggil **`model.predict()`** yang hasilnya akan ditampung oleh variabel **preds**.\n",
    "> `preds = model.predict(data_baru)`\n",
    "- Menampilkan hasil prediksi dari data_baru yang akan menghasilkan `array([1, 2])`. Artinya bahwa untuk baris pertama dengan nilai features `[5, 5, 3, 2]` diprediksi memiliki nilai target 1 dan baris kedua dengan nilai features `[2, 4, 3, 5]` diprediksi memiliki nilai target 2."
   ]
  },
  {
   "cell_type": "code",
   "execution_count": 6,
   "metadata": {},
   "outputs": [
    {
     "data": {
      "text/plain": [
       "array([1, 2])"
      ]
     },
     "execution_count": 6,
     "metadata": {},
     "output_type": "execute_result"
    }
   ],
   "source": [
    "data_baru = [[5, 5, 3, 2], \n",
    "             [2, 4, 3, 5]]\n",
    "\n",
    "preds = model.predict(data_baru)\n",
    "preds"
   ]
  },
  {
   "cell_type": "markdown",
   "metadata": {},
   "source": [
    "- Untuk mengetahui target names dari hasil prediksi, kita dapat memanggil **`[iris.target_names[p] for p in preds] `** yang akan menghasilkan `['versicolor', 'virginica']` yang artinya bahwa untuk baris pertama dengan nilai features [5, 5, 3, 2] diprediksi masuk ke dalam species versicolor dan baris kedua dengan nilai features [2, 4, 3, 5] diprediksi masuk ke dalam species virginica."
   ]
  },
  {
   "cell_type": "code",
   "execution_count": 7,
   "metadata": {},
   "outputs": [
    {
     "name": "stdout",
     "output_type": "stream",
     "text": [
      "Hasil Prediksi: ['versicolor', 'virginica']\n"
     ]
    }
   ],
   "source": [
    "pred_species = [iris.target_names[p] for p in preds] \n",
    "print(f'Hasil Prediksi: {pred_species}')"
   ]
  },
  {
   "cell_type": "markdown",
   "metadata": {},
   "source": [
    "## *Dump & Load Trained Model*"
   ]
  },
  {
   "cell_type": "markdown",
   "metadata": {},
   "source": [
    "### *Dumping Model Machine Learning* menjadi file `joblib`\n",
    "- Trained model yang sudah siap akan kita export sebagai suatu file model. Untuk melakukan hal tersebut, kita dapat menggunakan modul **`joblib`**.\n",
    "- Langkah pertama yang harus dilakukan adalah melakukan import joblib\n",
    "> `import joblib`\n",
    "- Melakukan proses dumping model dengan memanggil `joblib.dump()` yang disertai oleh 2 parameter.\n",
    "    - Parameter pertama yaitu trained model yang akan kita dumping.\n",
    "    - Parameter kedua yaitu nama file yang akan dihasilkan dari proses dumping tersebut.\n",
    "> `joblib.dump(model, 'iris_classifier_knn.joblib')`"
   ]
  },
  {
   "cell_type": "code",
   "execution_count": 8,
   "metadata": {},
   "outputs": [
    {
     "data": {
      "text/plain": [
       "['iris_classifier_knn.joblib']"
      ]
     },
     "execution_count": 8,
     "metadata": {},
     "output_type": "execute_result"
    }
   ],
   "source": [
    "import joblib\n",
    "\n",
    "joblib.dump(model, 'iris_classifier_knn.joblib')"
   ]
  },
  {
   "cell_type": "markdown",
   "metadata": {},
   "source": [
    "### *Loading Model Machine Learning* dari file `joblib`\n",
    "- Kita akan me-load file joblib yang dihasilkan sebelumnya menjadi machine learning model dengan memanggil **`joblib.load()`** yang diikuti oleh 1 parameter berupa nama file yang akan diload.\n",
    "> `joblib.load('iris_classifier_knn.joblib')`\n",
    "- Machine Learning model tersebut akan ditampung oleh variabel `production_model`\n",
    "> `production_model = joblib.load('iris_classifier_knn.joblib')`"
   ]
  },
  {
   "cell_type": "code",
   "execution_count": 9,
   "metadata": {},
   "outputs": [],
   "source": [
    "production_model = joblib.load('iris_classifier_knn.joblib')"
   ]
  }
 ],
 "metadata": {
  "kernelspec": {
   "display_name": "Python 3",
   "language": "python",
   "name": "python3"
  },
  "language_info": {
   "codemirror_mode": {
    "name": "ipython",
    "version": 3
   },
   "file_extension": ".py",
   "mimetype": "text/x-python",
   "name": "python",
   "nbconvert_exporter": "python",
   "pygments_lexer": "ipython3",
   "version": "3.8.3"
  }
 },
 "nbformat": 4,
 "nbformat_minor": 4
}
