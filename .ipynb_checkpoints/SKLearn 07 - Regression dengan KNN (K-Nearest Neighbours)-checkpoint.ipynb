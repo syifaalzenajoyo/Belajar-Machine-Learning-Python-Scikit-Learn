{
 "cells": [
  {
   "cell_type": "markdown",
   "metadata": {},
   "source": [
    "# SKLearn 07 - *Regression* dengan KNN (*K-Nearest Neighbours*)\n",
    "\n",
    "- KNN merupakan suatu model machine learning yang dapat digunakan untuk **melakukan prediksi berdasarkan kedekatan karakteristik dengan sejumlah tetangga terdekatnya**.\n",
    "- Prediksi yang dilakukan dapat diterapkan baik pada ***classification*** maupun ***regression tasks***."
   ]
  },
  {
   "cell_type": "markdown",
   "metadata": {},
   "source": [
    "## *Sample Dataset*\n",
    "- Dataset akan digenerate sebagai pandas data frame, sehingga kita perlu melakukan import **pandas**\n",
    "> `import pandas as pd`\n",
    "- Kali ini kita akan membuat dataset yang dibentuk menggunakan dictionary yang terdiri atas keys (**tinggi**, **jk**, dan **berat**) dan valuesnya. Dataset tersebut akan ditampung oleh variabel **sensus**. Kolom tinggi dan jk akan menjadi features, sedangkan berat akan menjadi target.\n",
    "> `sensus = {\n",
    "    'tinggi': [158, 170, 183, 191, 155, 163, 180, 158, 178], \n",
    "    'jk': ['pria', 'pria', 'pria', 'pria', 'wanita', 'wanita', 'wanita', 'wanita','wanita'],\n",
    "    'berat': [64, 86, 84, 80, 49, 59, 67, 54, 67]\n",
    "}`\n",
    "- Membuat pandas data frame dari **sensus** yang hasilnya akan ditampung oleh **sensus_df**.\n",
    "> `sensus_df = pd.DataFrame(sensus)`\n",
    "- Menampilkan dataset yang ditampung oleh **sensus_df**\n",
    "> `sensus_df`"
   ]
  },
  {
   "cell_type": "code",
   "execution_count": 1,
   "metadata": {
    "scrolled": true
   },
   "outputs": [
    {
     "data": {
      "text/html": [
       "<div>\n",
       "<style scoped>\n",
       "    .dataframe tbody tr th:only-of-type {\n",
       "        vertical-align: middle;\n",
       "    }\n",
       "\n",
       "    .dataframe tbody tr th {\n",
       "        vertical-align: top;\n",
       "    }\n",
       "\n",
       "    .dataframe thead th {\n",
       "        text-align: right;\n",
       "    }\n",
       "</style>\n",
       "<table border=\"1\" class=\"dataframe\">\n",
       "  <thead>\n",
       "    <tr style=\"text-align: right;\">\n",
       "      <th></th>\n",
       "      <th>tinggi</th>\n",
       "      <th>jk</th>\n",
       "      <th>berat</th>\n",
       "    </tr>\n",
       "  </thead>\n",
       "  <tbody>\n",
       "    <tr>\n",
       "      <th>0</th>\n",
       "      <td>158</td>\n",
       "      <td>pria</td>\n",
       "      <td>64</td>\n",
       "    </tr>\n",
       "    <tr>\n",
       "      <th>1</th>\n",
       "      <td>170</td>\n",
       "      <td>pria</td>\n",
       "      <td>86</td>\n",
       "    </tr>\n",
       "    <tr>\n",
       "      <th>2</th>\n",
       "      <td>183</td>\n",
       "      <td>pria</td>\n",
       "      <td>84</td>\n",
       "    </tr>\n",
       "    <tr>\n",
       "      <th>3</th>\n",
       "      <td>191</td>\n",
       "      <td>pria</td>\n",
       "      <td>80</td>\n",
       "    </tr>\n",
       "    <tr>\n",
       "      <th>4</th>\n",
       "      <td>155</td>\n",
       "      <td>wanita</td>\n",
       "      <td>49</td>\n",
       "    </tr>\n",
       "    <tr>\n",
       "      <th>5</th>\n",
       "      <td>163</td>\n",
       "      <td>wanita</td>\n",
       "      <td>59</td>\n",
       "    </tr>\n",
       "    <tr>\n",
       "      <th>6</th>\n",
       "      <td>180</td>\n",
       "      <td>wanita</td>\n",
       "      <td>67</td>\n",
       "    </tr>\n",
       "    <tr>\n",
       "      <th>7</th>\n",
       "      <td>158</td>\n",
       "      <td>wanita</td>\n",
       "      <td>54</td>\n",
       "    </tr>\n",
       "    <tr>\n",
       "      <th>8</th>\n",
       "      <td>170</td>\n",
       "      <td>wanita</td>\n",
       "      <td>67</td>\n",
       "    </tr>\n",
       "  </tbody>\n",
       "</table>\n",
       "</div>"
      ],
      "text/plain": [
       "   tinggi      jk  berat\n",
       "0     158    pria     64\n",
       "1     170    pria     86\n",
       "2     183    pria     84\n",
       "3     191    pria     80\n",
       "4     155  wanita     49\n",
       "5     163  wanita     59\n",
       "6     180  wanita     67\n",
       "7     158  wanita     54\n",
       "8     170  wanita     67"
      ]
     },
     "execution_count": 1,
     "metadata": {},
     "output_type": "execute_result"
    }
   ],
   "source": [
    "import pandas as pd\n",
    "\n",
    "sensus = {'tinggi': [158, 170, 183, 191, 155, 163, 180, 158, 170], \n",
    "          'jk': ['pria', 'pria', 'pria', 'pria', 'wanita', 'wanita', 'wanita', 'wanita', 'wanita'],\n",
    "          'berat': [64, 86, 84, 80, 49, 59, 67, 54, 67]}\n",
    "\n",
    "sensus_df = pd.DataFrame(sensus)\n",
    "sensus_df"
   ]
  },
  {
   "cell_type": "markdown",
   "metadata": {},
   "source": [
    "## *Regression* dengan KNN\n",
    "### Features & Target\n",
    "Untuk memodelkan hubungan antara tinggi badan dan jenis kelamin dengan berat badan, kita perlu untuk mengelompokkan features dan targetnya menggunakan numpy array.\n",
    "- Mengimport **numpy** sebagai np.\n",
    "> `import numpy as np`\n",
    "- Mengkonversikan pandas data frame **sensus_df** menjadi **numpy array**. Kita akan membuat dua buah numpy array yang pertama bertindak sebagai features (**tinggi** dan **jk**) dan yang kedua bertindak sebagai target (**berat**). \n",
    "> `X_train = np.array(sensus_df[['tinggi', 'jk']])`\n",
    "\n",
    "    > `y_train = np.array(sensus_df['berat'])`\n",
    "- Menampilkan sekumpulan nilai features `X_train` dan target `y_train`.\n",
    "> `print(f'X_train:\\n{X_train}\\n')`\n",
    "\n",
    "    > `print(f'y_train: {y_train}')`"
   ]
  },
  {
   "cell_type": "code",
   "execution_count": 2,
   "metadata": {},
   "outputs": [
    {
     "name": "stdout",
     "output_type": "stream",
     "text": [
      "X_train:\n",
      "[[158 'pria']\n",
      " [170 'pria']\n",
      " [183 'pria']\n",
      " [191 'pria']\n",
      " [155 'wanita']\n",
      " [163 'wanita']\n",
      " [180 'wanita']\n",
      " [158 'wanita']\n",
      " [170 'wanita']]\n",
      "\n",
      "y_train: [64 86 84 80 49 59 67 54 67]\n"
     ]
    }
   ],
   "source": [
    "import numpy as np\n",
    "\n",
    "X_train = np.array(sensus_df[['tinggi', 'jk']])\n",
    "y_train = np.array(sensus_df['berat'])\n",
    "\n",
    "print(f'X_train:\\n{X_train}\\n')\n",
    "print(f'y_train: {y_train}')"
   ]
  },
  {
   "cell_type": "markdown",
   "metadata": {},
   "source": [
    "### Preprocess Dataset: Konversi Label menjadi Numerik Biner\n",
    "- Melakukan transpose pada X_train sehingga kolom tinggi menjadi baris dengan index 0 dan jk menjadi baris dengan index 1 pada dataset.\n",
    "> `X_train_transposed = np.transpose(X_train)`"
   ]
  },
  {
   "cell_type": "code",
   "execution_count": 3,
   "metadata": {},
   "outputs": [
    {
     "name": "stdout",
     "output_type": "stream",
     "text": [
      "X_train:\n",
      "[[158 'pria']\n",
      " [170 'pria']\n",
      " [183 'pria']\n",
      " [191 'pria']\n",
      " [155 'wanita']\n",
      " [163 'wanita']\n",
      " [180 'wanita']\n",
      " [158 'wanita']\n",
      " [170 'wanita']]\n",
      "\n",
      "X_train_transposed:\n",
      "[[158 170 183 191 155 163 180 158 170]\n",
      " ['pria' 'pria' 'pria' 'pria' 'wanita' 'wanita' 'wanita' 'wanita'\n",
      "  'wanita']]\n"
     ]
    }
   ],
   "source": [
    "X_train_transposed = np.transpose(X_train)\n",
    "\n",
    "print(f'X_train:\\n{X_train}\\n')\n",
    "print(f'X_train_transposed:\\n{X_train_transposed}')"
   ]
  },
  {
   "cell_type": "markdown",
   "metadata": {},
   "source": [
    "Mentransform nilai target `y_train` dari String ke nilai numerik biner dimana `pria` menjadi `0` dan `wanita` menjadi `1` agar dapat dihitung jaraknya. \n",
    "- Mengimport `LabelBinarizer` dari `sklearn.preprocessing`\n",
    "- Membuat variabel `lb` yang akan menampung object `LabelBinarizer()`\n",
    "- Memanggil `lb.fit_transform(X_train_transposed[1])` untuk melakukan transform label X_train_transposed[1] atau baris dengan index ke-1 yang berisikan data jk yang hasil transformnya akan ditampung oleh `jk_binarised`.\n",
    "- Menampilkan X_train_transposed[1] dan jk_binarised."
   ]
  },
  {
   "cell_type": "code",
   "execution_count": 4,
   "metadata": {},
   "outputs": [
    {
     "name": "stdout",
     "output_type": "stream",
     "text": [
      "jk: ['pria' 'pria' 'pria' 'pria' 'wanita' 'wanita' 'wanita' 'wanita' 'wanita']\n",
      "\n",
      "jk_binarised:\n",
      "[[0]\n",
      " [0]\n",
      " [0]\n",
      " [0]\n",
      " [1]\n",
      " [1]\n",
      " [1]\n",
      " [1]\n",
      " [1]]\n"
     ]
    }
   ],
   "source": [
    "from sklearn.preprocessing import LabelBinarizer\n",
    "\n",
    "lb = LabelBinarizer()\n",
    "jk_binarised = lb.fit_transform(X_train_transposed[1])\n",
    "\n",
    "print(f'jk: {X_train_transposed[1]}\\n')\n",
    "print(f'jk_binarised:\\n{jk_binarised}')"
   ]
  },
  {
   "cell_type": "markdown",
   "metadata": {},
   "source": [
    "- Mengkonversi jk_binarised yang terdiri dari array 2 dimensi menjadi array 1 dimensi dengan memanggil method `flatten()`."
   ]
  },
  {
   "cell_type": "code",
   "execution_count": 5,
   "metadata": {},
   "outputs": [
    {
     "data": {
      "text/plain": [
       "array([0, 0, 0, 0, 1, 1, 1, 1, 1])"
      ]
     },
     "execution_count": 5,
     "metadata": {},
     "output_type": "execute_result"
    }
   ],
   "source": [
    "jk_binarised = jk_binarised.flatten()\n",
    "jk_binarised"
   ]
  },
  {
   "cell_type": "markdown",
   "metadata": {},
   "source": [
    "- Melakukan transpose kembali pada X_train_transposed sehingga tinggi dan jenis kelamin kembali menjadi kolom dimana label pada jenis kelamin laki-laki dan wanita telah dikonversi menjadi numerik biner 0 dan 1\n",
    "> `X_train = X_train_transposed.transpose()`"
   ]
  },
  {
   "cell_type": "code",
   "execution_count": 6,
   "metadata": {},
   "outputs": [
    {
     "name": "stdout",
     "output_type": "stream",
     "text": [
      "X_train_transposed:\n",
      "[[158 170 183 191 155 163 180 158 170]\n",
      " [0 0 0 0 1 1 1 1 1]]\n",
      "\n",
      "X_train:\n",
      "[[158 0]\n",
      " [170 0]\n",
      " [183 0]\n",
      " [191 0]\n",
      " [155 1]\n",
      " [163 1]\n",
      " [180 1]\n",
      " [158 1]\n",
      " [170 1]]\n"
     ]
    }
   ],
   "source": [
    "X_train_transposed[1] = jk_binarised\n",
    "X_train = X_train_transposed.transpose()\n",
    "\n",
    "print(f'X_train_transposed:\\n{X_train_transposed}\\n')\n",
    "print(f'X_train:\\n{X_train}')"
   ]
  },
  {
   "cell_type": "markdown",
   "metadata": {},
   "source": [
    "### *Training KNN Regression Model*\n",
    "- Mengimport ***KNeighborsClassifier*** dari ***sklearn.neighbors**\n",
    "> `from sklearn.linear_model import LinearRegression`\n",
    "- Membuat object KNN Classification Model dimana nilai dari `n_neigbors`nya adalah 3.\n",
    "> `K = 3`\n",
    "    \n",
    "    > `model = KNeighborsClassifier(n_neighbors=K)`\n",
    "- Untuk melakukan training model, kita dapat memanggil method **fit()** yang disertai 2 parameter.\n",
    "    - Parameter pertama berasosiasi dengan sekumpulan nilai features yaitu **X_train**.\n",
    "    - Parameter kedua berasosiasi dengan sekumpulan nilai target yaitu **y_train**.\n",
    "> `model.fit(X_train, y_train)`"
   ]
  },
  {
   "cell_type": "code",
   "execution_count": 7,
   "metadata": {},
   "outputs": [
    {
     "data": {
      "text/plain": [
       "KNeighborsRegressor(n_neighbors=3)"
      ]
     },
     "execution_count": 7,
     "metadata": {},
     "output_type": "execute_result"
    }
   ],
   "source": [
    "from sklearn.neighbors import KNeighborsRegressor\n",
    "\n",
    "K = 3\n",
    "model = KNeighborsRegressor(n_neighbors=K)\n",
    "model.fit(X_train, y_train)"
   ]
  },
  {
   "cell_type": "markdown",
   "metadata": {},
   "source": [
    "### Prediksi Berat Badan\n",
    "Kita akan melakukan prediksi berat badan untuk seseorang yang memiliki tinggi badan 155 cm dan berjenis kelamin wanita (1).\n",
    "> `tinggi_badan = 155`\n",
    "\n",
    "> `jenis_kelamin = 1`\n",
    "\n",
    "- Membuat variable **X_new** yang akan menampung numpy array yang terdiri dari 2 nilai yaitu tinggi_badan dan jenis_kelamin yang kemudian dilakukan reshape agar menghasilkan numpy array 2 dimensi.\n",
    "> `X_new = np.array([tinggi_badan, jenis_kelamin]).reshape(1, -1)`\n",
    "- Menampilkan X_new\n",
    "> `X_new`"
   ]
  },
  {
   "cell_type": "code",
   "execution_count": 8,
   "metadata": {},
   "outputs": [
    {
     "data": {
      "text/plain": [
       "array([[155,   1]])"
      ]
     },
     "execution_count": 8,
     "metadata": {},
     "output_type": "execute_result"
    }
   ],
   "source": [
    "tinggi_badan = 155\n",
    "jenis_kelamin = 1\n",
    "X_new = np.array([tinggi_badan, jenis_kelamin]).reshape(1, -1)\n",
    "X_new"
   ]
  },
  {
   "cell_type": "markdown",
   "metadata": {},
   "source": [
    "- Memanggil `model.predict()` yang akan melakukan prediksi nilai target dari features X_new yang ditentukan sebelumnya. Hasil prediksi ditampung oleh variabel `y_new`."
   ]
  },
  {
   "cell_type": "code",
   "execution_count": 9,
   "metadata": {},
   "outputs": [
    {
     "data": {
      "text/plain": [
       "array([55.66666667])"
      ]
     },
     "execution_count": 9,
     "metadata": {},
     "output_type": "execute_result"
    }
   ],
   "source": [
    "y_new = model.predict(X_new)\n",
    "y_new"
   ]
  },
  {
   "cell_type": "markdown",
   "metadata": {},
   "source": [
    "## Evaluasi KNN Regression Model\n",
    "### Testing Set\n",
    "- Membuat numpy array dari sekumpulan nilai features (tinggi badan dan jenis kelamin) untuk testing dataset. Numpy array tersebut akan ditampung oleh variabel `X_test`.\n",
    "> `X_test = np.array([[168, 0], [180, 0], [160, 1], [169, 1]])`\n",
    "- Membuat numpy array dari sekumpulan nilai target (berat badan) untuk testing dataset. Numpy array tersebut akan ditampung oleh variabel `y_test`.\n",
    "> `y_test = np.array([65, 96, 52, 67])`"
   ]
  },
  {
   "cell_type": "code",
   "execution_count": 10,
   "metadata": {},
   "outputs": [
    {
     "name": "stdout",
     "output_type": "stream",
     "text": [
      "X_test:\n",
      "[[168   0]\n",
      " [180   0]\n",
      " [160   1]\n",
      " [169   1]]\n",
      "\n",
      "y_test: [65 96 52 67]\n"
     ]
    }
   ],
   "source": [
    "X_test = np.array([[168, 0], [180, 0], [160, 1], [169, 1]])\n",
    "y_test = np.array([65, 96, 52, 67])\n",
    "\n",
    "print(f'X_test:\\n{X_test}\\n')\n",
    "print(f'y_test: {y_test}')"
   ]
  },
  {
   "cell_type": "markdown",
   "metadata": {},
   "source": [
    "### Prediksi terhadap Testing Set\n",
    "- Memanggil `model.predict(X_test)` untuk memprediksi nilai target dari features yang ditampung variabel X_test. Hasil prediksi tersebut akan ditampung oleh variabel `y_pred`\n",
    "> `y_pred = model.predict(X_test)`"
   ]
  },
  {
   "cell_type": "code",
   "execution_count": 11,
   "metadata": {},
   "outputs": [
    {
     "data": {
      "text/plain": [
       "array([70.66666667, 79.        , 59.        , 70.66666667])"
      ]
     },
     "execution_count": 11,
     "metadata": {},
     "output_type": "execute_result"
    }
   ],
   "source": [
    "y_pred = model.predict(X_test)\n",
    "y_pred"
   ]
  },
  {
   "cell_type": "markdown",
   "metadata": {},
   "source": [
    "### *Coefficient of Determination* atau *R-squared* ($R^2$)\n",
    "Untuk melakukan evaluasi terhadap KNN Regression Model, kita dapat memanfaatkan R-squared. Nilai R-Squared semakin mendekati 1 berarti semakin baik model yang dihasilkan, sedangkan jika semakin mendekati 0 atau bahkan negatif berarti semakin buruk model yang dihasilkan dalam melakukan prediksi.\n",
    "- Mengimport **r2_score** dari **sklearn.metrics**\n",
    "> `from sklearn.metrics import r2_score`\n",
    "- Membandingkan sekumpulan nilai target yang ditampung oleh **y_test** dengan hasil prediksi yang ditampung **y_pred**. Proses evaluasi ini menggunakan method `r2_score()` yang akan menghasilkan nilai yang merepresentasikan kesesuaian dari kedua dataset tersebut. Semakin bagus dan akurat model yang dihasilkan, nilainya akan mendekati angka 1.\n",
    "> `r_squared = r2_score(y_test, y_pred)`"
   ]
  },
  {
   "cell_type": "code",
   "execution_count": 12,
   "metadata": {},
   "outputs": [
    {
     "name": "stdout",
     "output_type": "stream",
     "text": [
      "R-squared: 0.6290565226735438\n"
     ]
    }
   ],
   "source": [
    "from sklearn.metrics import r2_score\n",
    "\n",
    "r_squared = r2_score(y_test, y_pred)\n",
    "\n",
    "print(f'R-squared: {r_squared}')"
   ]
  },
  {
   "cell_type": "markdown",
   "metadata": {},
   "source": [
    "### *Mean Absolute Error* (MAE) atau *Mean Absolute Deviation* (MAD)\n",
    "- MAE merupakan rata-rata nilai absolute value dari error yang terjadi pada hasil prediksi\n",
    "\n",
    "$MAE = \\frac{1}{n} \\sum_{i=1}^{n} |y_i - \\hat{y}_i|$\n",
    "\n",
    "- $y_i$ pada kasus ini adalah y_test dan $\\hat{y}_i$ adalah y_pred.\n",
    "- Jika nilai y_pred lebih kecil dari y_test, nilai errornya akan positif. Sedangkan jika nilai y_pred lebih besar dari y_test, nilai errornya akan negatif. Untuk mengatasi hal tersebut proses pengurangan y_test oleh y_pred dikenakan operasi nilai mutlak, sehingga nilai errornya yang dihasilkannya selalu positif. \n",
    "- Semakin kecil MAE merepresentasikan semakin baik model yang dihasilkan dalam melakukan prediksi.\n",
    "- Semakin besar MAE merepresentasikan semakin buruk model yang dihasilkan dalam melakukan prediksi."
   ]
  },
  {
   "cell_type": "code",
   "execution_count": 13,
   "metadata": {},
   "outputs": [
    {
     "name": "stdout",
     "output_type": "stream",
     "text": [
      "MAE: 8.333333333333336\n"
     ]
    }
   ],
   "source": [
    "from sklearn.metrics import mean_absolute_error\n",
    "\n",
    "MAE = mean_absolute_error(y_test, y_pred)\n",
    "\n",
    "print(f'MAE: {MAE}')"
   ]
  },
  {
   "cell_type": "markdown",
   "metadata": {},
   "source": [
    "### *Mean Squared Error* (MSE) atau *Mean Squared Deviation* (MSD)\n",
    "- MSE merupakan rata-rata dari kuadrat nilai error yang terjadi pada hasil prediksi\n",
    "\n",
    "$MSE = \\frac{1}{n} \\sum_{i=1}^{n} (y_i - \\hat{y}_i)^2$\n",
    "\n",
    "- $y_i$ pada kasus ini adalah y_test dan $\\hat{y}_i$ adalah y_pred.\n",
    "- Jika nilai y_pred lebih kecil dari y_test, nilai errornya akan positif. Sedangkan jika nilai y_pred lebih besar dari y_test, nilai errornya akan negatif. Untuk mengatasi hal tersebut proses pengurangan y_test oleh y_pred dikenakan operasi kuadrat, sehingga nilai errornya yang dihasilkannya selalu positif. \n",
    "- Semakin kecil MSE merepresentasikan semakin baik model yang dihasilkan dalam melakukan prediksi.\n",
    "- Semakin besar MSE merepresentasikan semakin buruk model yang dihasilkan dalam melakukan prediksi."
   ]
  },
  {
   "cell_type": "code",
   "execution_count": 14,
   "metadata": {},
   "outputs": [
    {
     "name": "stdout",
     "output_type": "stream",
     "text": [
      "MSE: 95.8888888888889\n"
     ]
    }
   ],
   "source": [
    "from sklearn.metrics import mean_squared_error\n",
    "\n",
    "MSE = mean_squared_error(y_test, y_pred)\n",
    "\n",
    "print(f'MSE: {MSE}')"
   ]
  },
  {
   "cell_type": "markdown",
   "metadata": {},
   "source": [
    "### Permasalahan *Scaling* pada *Features*\n",
    "\n",
    "Permasalahan Scaling pada features ini bisa terjadi karena perbedaan satuan yang digunakan, misalnya milimeter dan meter. Dengan perbedaan satuan tersebut bisa memberikan hasil yang tidak konsisten mengenai data point mana di dalam dataset yang memiliki jarak yang lebih dekat dengan data point yang kita cari.\n",
    "\n",
    "**Tinggi dalam milimeter**\n",
    "- Berikut ini kita akan menggunakan satuan milimeter untuk nilai dari tinggi badan. \n",
    "- Nilai euclidean yang dihasilkan menyatakan bahwa jarak antara X_new[0] dan X_train[0][0] lebih besar dibandingkan dengan jarak antara X_new[0] dan X_train[1][0]"
   ]
  },
  {
   "cell_type": "code",
   "execution_count": 15,
   "metadata": {},
   "outputs": [
    {
     "data": {
      "text/plain": [
       "[60.0, 40.01249804748511]"
      ]
     },
     "execution_count": 15,
     "metadata": {},
     "output_type": "execute_result"
    }
   ],
   "source": [
    "from scipy.spatial.distance import euclidean\n",
    "\n",
    "X_train = np.array([[1700, 0], [1600, 1]])\n",
    "X_new = np.array([[1640, 0]])\n",
    "\n",
    "[euclidean(X_new[0], d) for d in X_train]"
   ]
  },
  {
   "cell_type": "markdown",
   "metadata": {},
   "source": [
    "**Tinggi dalam meter**\n",
    "- Berikut ini kita akan menggunakan satuan meter untuk nilai dari tinggi badan. \n",
    "- Nilai euclidean yang dihasilkan menyatakan bahwa jarak antara X_new[0] dan X_train[0][0] lebih kecil dibandingkan dengan jarak antara X_new[0] dan X_train[1][0]"
   ]
  },
  {
   "cell_type": "code",
   "execution_count": 16,
   "metadata": {},
   "outputs": [
    {
     "data": {
      "text/plain": [
       "[0.06000000000000005, 1.0007996802557442]"
      ]
     },
     "execution_count": 16,
     "metadata": {},
     "output_type": "execute_result"
    }
   ],
   "source": [
    "X_train = np.array([[1.7, 0], [1.6, 1]])\n",
    "X_new = np.array([[1.64, 0]])\n",
    "\n",
    "[euclidean(X_new[0], d) for d in X_train]"
   ]
  },
  {
   "cell_type": "markdown",
   "metadata": {},
   "source": [
    "### Menerapkan *Standard Scaler* (*Standard Score* atau *Z-Score*)\n",
    "\n",
    "Untuk mengatasi permasalahan sebelumnya, kita dapat menerapkan *Standard Scaler* (*Standard Score* atau *Z-Score*)\n",
    "- Standardize features by removing the mean and scaling to unit variance.\n",
    "\n",
    "$z = \\frac{x - \\bar{x}}{S}$"
   ]
  },
  {
   "cell_type": "code",
   "execution_count": 17,
   "metadata": {},
   "outputs": [],
   "source": [
    "from sklearn.preprocessing import StandardScaler\n",
    "\n",
    "ss = StandardScaler()"
   ]
  },
  {
   "cell_type": "markdown",
   "metadata": {},
   "source": [
    "**Tinggi dalam milimeter**\n",
    "- Berikut ini kita akan menggunakan satuan milimeter untuk nilai dari tinggi badan. \n",
    "- Nilai euclidean yang dihasilkan menyatakan bahwa jarak antara X_new[0] dan X_train[0][0] lebih kecil dibandingkan dengan jarak antara X_new[0] dan X_train[1][0]"
   ]
  },
  {
   "cell_type": "code",
   "execution_count": 18,
   "metadata": {},
   "outputs": [
    {
     "name": "stdout",
     "output_type": "stream",
     "text": [
      "X_train_scaled:\n",
      "[[ 1. -1.]\n",
      " [-1.  1.]]\n",
      "\n",
      "X_new_scaled: [[-0.2 -1. ]]\n",
      "\n",
      "jarak: [1.2, 2.1540659228538015]\n"
     ]
    }
   ],
   "source": [
    "X_train = np.array([[1700, 0], [1600, 1]])\n",
    "X_train_scaled = ss.fit_transform(X_train)\n",
    "print(f'X_train_scaled:\\n{X_train_scaled}\\n')\n",
    "\n",
    "X_new = np.array([[1640, 0]])\n",
    "X_new_scaled = ss.transform(X_new)\n",
    "print(f'X_new_scaled: {X_new_scaled}\\n')\n",
    "\n",
    "jarak = [euclidean(X_new_scaled[0], d) for d in X_train_scaled]\n",
    "print(f'jarak: {jarak}')"
   ]
  },
  {
   "cell_type": "markdown",
   "metadata": {},
   "source": [
    "**Tinggi dalam meter**\n",
    "- Berikut ini kita akan menggunakan satuan milimeter untuk nilai dari tinggi badan. \n",
    "- Nilai euclidean yang dihasilkan menyatakan bahwa jarak antara X_new[0] dan X_train[0][0] lebih kecil dibandingkan dengan jarak antara X_new[0] dan X_train[1][0]\n",
    "- Jadi, baik menggunakan satuan milimeter maupun menggunakan satuan milimeter, nilai euclidean yang dihasilkan sama-sama menyatakan bahwa arak antara X_new[0] dan X_train[0][0] lebih kecil dibandingkan dengan jarak antara X_new[0] dan X_train[1][0]."
   ]
  },
  {
   "cell_type": "code",
   "execution_count": 19,
   "metadata": {},
   "outputs": [
    {
     "name": "stdout",
     "output_type": "stream",
     "text": [
      "X_train_scaled:\n",
      "[[ 1. -1.]\n",
      " [-1.  1.]]\n",
      "\n",
      "X_new_scaled: [[-0.2 -1. ]]\n",
      "\n",
      "jarak: [1.2000000000000026, 2.1540659228538006]\n"
     ]
    }
   ],
   "source": [
    "X_train = np.array([[1.7, 0], [1.6, 1]])\n",
    "X_train_scaled = ss.fit_transform(X_train)\n",
    "print(f'X_train_scaled:\\n{X_train_scaled}\\n')\n",
    "\n",
    "X_new = np.array([[1.64, 0]])\n",
    "X_new_scaled = ss.transform(X_new)\n",
    "print(f'X_new_scaled: {X_new_scaled}\\n')\n",
    "\n",
    "jarak = [euclidean(X_new_scaled[0], d) for d in X_train_scaled]\n",
    "print(f'jarak: {jarak}')"
   ]
  },
  {
   "cell_type": "markdown",
   "metadata": {},
   "source": [
    "## Menerapkan *Features Scaling* pada KNN\n",
    "### Training Dataset"
   ]
  },
  {
   "cell_type": "code",
   "execution_count": 20,
   "metadata": {},
   "outputs": [],
   "source": [
    "X_train = np.array([[158, 0], [170, 0], [183, 0], [191, 0], [155, 1], [163, 1],\n",
    "                    [180, 1], [158, 1], [170, 1]])\n",
    "\n",
    "y_train = np.array([64, 86, 84, 80, 49, 59, 67, 54, 67])"
   ]
  },
  {
   "cell_type": "markdown",
   "metadata": {},
   "source": [
    "### Testing Dataset"
   ]
  },
  {
   "cell_type": "code",
   "execution_count": 21,
   "metadata": {},
   "outputs": [],
   "source": [
    "X_test = np.array([[168, 0], [180, 0], [160, 1], [169, 1]])\n",
    "y_test = np.array([65, 96, 52, 67])"
   ]
  },
  {
   "cell_type": "markdown",
   "metadata": {},
   "source": [
    "### *Features Scaling* (*Standard Scaler*)"
   ]
  },
  {
   "cell_type": "code",
   "execution_count": 22,
   "metadata": {},
   "outputs": [
    {
     "name": "stdout",
     "output_type": "stream",
     "text": [
      "X_train_scaled:\n",
      "[[-0.9908706  -1.11803399]\n",
      " [ 0.01869567 -1.11803399]\n",
      " [ 1.11239246 -1.11803399]\n",
      " [ 1.78543664 -1.11803399]\n",
      " [-1.24326216  0.89442719]\n",
      " [-0.57021798  0.89442719]\n",
      " [ 0.86000089  0.89442719]\n",
      " [-0.9908706   0.89442719]\n",
      " [ 0.01869567  0.89442719]]\n",
      "\n",
      "X_test_scaled:\n",
      "[[-0.14956537 -1.11803399]\n",
      " [ 0.86000089 -1.11803399]\n",
      " [-0.82260955  0.89442719]\n",
      " [-0.06543485  0.89442719]]\n",
      "\n"
     ]
    }
   ],
   "source": [
    "X_train_scaled = ss.fit_transform(X_train)\n",
    "X_test_scaled = ss.transform(X_test)\n",
    "\n",
    "print(f'X_train_scaled:\\n{X_train_scaled}\\n')\n",
    "print(f'X_test_scaled:\\n{X_test_scaled}\\n')"
   ]
  },
  {
   "cell_type": "markdown",
   "metadata": {},
   "source": [
    "### *Training* & Evaluasi Model"
   ]
  },
  {
   "cell_type": "code",
   "execution_count": 23,
   "metadata": {},
   "outputs": [
    {
     "name": "stdout",
     "output_type": "stream",
     "text": [
      "MAE: 7.583333333333336\n",
      "MSE: 85.13888888888893\n"
     ]
    }
   ],
   "source": [
    "model.fit(X_train_scaled, y_train)\n",
    "y_pred = model.predict(X_test_scaled)\n",
    "\n",
    "MAE = mean_absolute_error(y_test, y_pred)\n",
    "MSE = mean_squared_error(y_test, y_pred)\n",
    "\n",
    "print(f'MAE: {MAE}')\n",
    "print(f'MSE: {MSE}')"
   ]
  }
 ],
 "metadata": {
  "kernelspec": {
   "display_name": "Python 3",
   "language": "python",
   "name": "python3"
  },
  "language_info": {
   "codemirror_mode": {
    "name": "ipython",
    "version": 3
   },
   "file_extension": ".py",
   "mimetype": "text/x-python",
   "name": "python",
   "nbconvert_exporter": "python",
   "pygments_lexer": "ipython3",
   "version": "3.8.3"
  }
 },
 "nbformat": 4,
 "nbformat_minor": 4
}
