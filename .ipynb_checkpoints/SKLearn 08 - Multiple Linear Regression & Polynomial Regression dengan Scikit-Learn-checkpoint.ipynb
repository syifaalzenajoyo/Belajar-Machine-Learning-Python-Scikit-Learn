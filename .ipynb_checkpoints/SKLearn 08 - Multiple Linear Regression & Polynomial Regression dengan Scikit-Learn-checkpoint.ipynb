{
 "cells": [
  {
   "cell_type": "markdown",
   "metadata": {},
   "source": [
    "# SKLearn 08 - *Multiple Linear Regression* & *Polynomial Regression* dengan *Scikit-Learn*"
   ]
  },
  {
   "cell_type": "markdown",
   "metadata": {},
   "source": [
    "Pada studi kasus kali ini,kita akan melakukan prediksi harga pizza berdasarkan diameter dan banyak toppingnya. Harga pizza merupakan nilai continuous bukan kategori, sehingga untuk melakukan prediksinya kita dapat menggunakan regression task.\n",
    "\n",
    "## *Sample Dataset*\n",
    "\n",
    "### *Training Dataset*\n",
    "- Dataset akan digenerate sebagai pandas data frame, sehingga kita perlu melakukan import **pandas**\n",
    "> `import pandas as pd`\n",
    "- Kali ini kita akan membuat training dataset yang dibentuk menggunakan dictionary yang terdiri atas keys (**diameter**, **n_topping**, dan **harga**) beserta valuesnya.\n",
    "> `pizza = {'diameter': [6, 8, 10, 14, 18], 'n_topping': [2, 1, 0, 2, 0], 'harga': [7, 9, 13, 17.5, 18]}`\n",
    "- Membuat pandas data frame dari **pizza** yang hasilnya akan ditampung oleh **train_pizza_df**.\n",
    "> `train_pizza_df = pd.DataFrame(pizza)`\n",
    "- Menampilkan dataset yang ditampung oleh **train_pizza_df**\n",
    "> `train_pizza_df`"
   ]
  },
  {
   "cell_type": "code",
   "execution_count": 1,
   "metadata": {
    "scrolled": true
   },
   "outputs": [
    {
     "data": {
      "text/html": [
       "<div>\n",
       "<style scoped>\n",
       "    .dataframe tbody tr th:only-of-type {\n",
       "        vertical-align: middle;\n",
       "    }\n",
       "\n",
       "    .dataframe tbody tr th {\n",
       "        vertical-align: top;\n",
       "    }\n",
       "\n",
       "    .dataframe thead th {\n",
       "        text-align: right;\n",
       "    }\n",
       "</style>\n",
       "<table border=\"1\" class=\"dataframe\">\n",
       "  <thead>\n",
       "    <tr style=\"text-align: right;\">\n",
       "      <th></th>\n",
       "      <th>diameter</th>\n",
       "      <th>n_topping</th>\n",
       "      <th>harga</th>\n",
       "    </tr>\n",
       "  </thead>\n",
       "  <tbody>\n",
       "    <tr>\n",
       "      <th>0</th>\n",
       "      <td>6</td>\n",
       "      <td>2</td>\n",
       "      <td>7.0</td>\n",
       "    </tr>\n",
       "    <tr>\n",
       "      <th>1</th>\n",
       "      <td>8</td>\n",
       "      <td>1</td>\n",
       "      <td>9.0</td>\n",
       "    </tr>\n",
       "    <tr>\n",
       "      <th>2</th>\n",
       "      <td>10</td>\n",
       "      <td>0</td>\n",
       "      <td>13.0</td>\n",
       "    </tr>\n",
       "    <tr>\n",
       "      <th>3</th>\n",
       "      <td>14</td>\n",
       "      <td>2</td>\n",
       "      <td>17.5</td>\n",
       "    </tr>\n",
       "    <tr>\n",
       "      <th>4</th>\n",
       "      <td>18</td>\n",
       "      <td>0</td>\n",
       "      <td>18.0</td>\n",
       "    </tr>\n",
       "  </tbody>\n",
       "</table>\n",
       "</div>"
      ],
      "text/plain": [
       "   diameter  n_topping  harga\n",
       "0         6          2    7.0\n",
       "1         8          1    9.0\n",
       "2        10          0   13.0\n",
       "3        14          2   17.5\n",
       "4        18          0   18.0"
      ]
     },
     "execution_count": 1,
     "metadata": {},
     "output_type": "execute_result"
    }
   ],
   "source": [
    "import pandas as pd\n",
    "\n",
    "pizza = {'diameter': [6, 8, 10, 14, 18], \n",
    "         'n_topping': [2, 1, 0, 2, 0],\n",
    "         'harga': [7, 9, 13, 17.5, 18]}\n",
    "\n",
    "train_pizza_df = pd.DataFrame(pizza)\n",
    "train_pizza_df"
   ]
  },
  {
   "cell_type": "markdown",
   "metadata": {},
   "source": [
    "### *Testing Dataset*\n",
    "- Membuat testing dataset yang dibentuk menggunakan dictionary yang terdiri atas keys (**diameter**, **n_topping**, dan **harga**) beserta valuesnya.\n",
    "> `pizza = {'diameter': [8, 9, 11, 16, 12], 'n_topping': [2, 0, 2, 2, 0], 'harga': [11, 8.5, 15, 18, 11]}`\n",
    "- Membuat pandas data frame dari **pizza** yang hasilnya akan ditampung oleh **test_pizza_df**.\n",
    "> `test_pizza_df = pd.DataFrame(pizza)`\n",
    "- Menampilkan dataset yang ditampung oleh **test_pizza_df**\n",
    "> `test_pizza_df`"
   ]
  },
  {
   "cell_type": "code",
   "execution_count": 2,
   "metadata": {},
   "outputs": [
    {
     "data": {
      "text/html": [
       "<div>\n",
       "<style scoped>\n",
       "    .dataframe tbody tr th:only-of-type {\n",
       "        vertical-align: middle;\n",
       "    }\n",
       "\n",
       "    .dataframe tbody tr th {\n",
       "        vertical-align: top;\n",
       "    }\n",
       "\n",
       "    .dataframe thead th {\n",
       "        text-align: right;\n",
       "    }\n",
       "</style>\n",
       "<table border=\"1\" class=\"dataframe\">\n",
       "  <thead>\n",
       "    <tr style=\"text-align: right;\">\n",
       "      <th></th>\n",
       "      <th>diameter</th>\n",
       "      <th>n_topping</th>\n",
       "      <th>harga</th>\n",
       "    </tr>\n",
       "  </thead>\n",
       "  <tbody>\n",
       "    <tr>\n",
       "      <th>0</th>\n",
       "      <td>8</td>\n",
       "      <td>2</td>\n",
       "      <td>11.0</td>\n",
       "    </tr>\n",
       "    <tr>\n",
       "      <th>1</th>\n",
       "      <td>9</td>\n",
       "      <td>0</td>\n",
       "      <td>8.5</td>\n",
       "    </tr>\n",
       "    <tr>\n",
       "      <th>2</th>\n",
       "      <td>11</td>\n",
       "      <td>2</td>\n",
       "      <td>15.0</td>\n",
       "    </tr>\n",
       "    <tr>\n",
       "      <th>3</th>\n",
       "      <td>16</td>\n",
       "      <td>2</td>\n",
       "      <td>18.0</td>\n",
       "    </tr>\n",
       "    <tr>\n",
       "      <th>4</th>\n",
       "      <td>12</td>\n",
       "      <td>0</td>\n",
       "      <td>11.0</td>\n",
       "    </tr>\n",
       "  </tbody>\n",
       "</table>\n",
       "</div>"
      ],
      "text/plain": [
       "   diameter  n_topping  harga\n",
       "0         8          2   11.0\n",
       "1         9          0    8.5\n",
       "2        11          2   15.0\n",
       "3        16          2   18.0\n",
       "4        12          0   11.0"
      ]
     },
     "execution_count": 2,
     "metadata": {},
     "output_type": "execute_result"
    }
   ],
   "source": [
    "pizza = {'diameter': [8, 9, 11, 16, 12], \n",
    "         'n_topping': [2, 0, 2, 2, 0],\n",
    "         'harga': [11, 8.5, 15, 18, 11]}\n",
    "\n",
    "test_pizza_df = pd.DataFrame(pizza)\n",
    "test_pizza_df"
   ]
  },
  {
   "cell_type": "markdown",
   "metadata": {},
   "source": [
    "## Penyesuaian Dataset\n",
    "Untuk memodelkan hubungan antara diameter dan n_topping terhadap harga pizza, kita perlu untuk mengelompokkan features dan targetnya menggunakan numpy array.\n",
    "- Mengimport **numpy** sebagai np.\n",
    "> `import numpy as np`\n",
    "- Mengkonversikan pandas data frame **train_pizza_df** menjadi **numpy array**. Kita akan membuat dua buah numpy array yang pertama bertindak sebagai features (diameter dan n_topping) dan yang kedua bertindak sebagai target (harga). \n",
    "> `X_train = np.array(train_pizza_df[['diameter', 'n_topping']])`\n",
    "\n",
    "    > `y_train = np.array(train_pizza_df['harga'])`\n",
    "- Menampilkan sekumpulan nilai features `X_train` dan target `y_train`.\n",
    "> `print(f'X_train:\\n{X_train}\\n')`\n",
    "\n",
    "    > `print(f'y_train: {y_train}')`"
   ]
  },
  {
   "cell_type": "code",
   "execution_count": 3,
   "metadata": {},
   "outputs": [
    {
     "name": "stdout",
     "output_type": "stream",
     "text": [
      "X_train:\n",
      "[[ 6  2]\n",
      " [ 8  1]\n",
      " [10  0]\n",
      " [14  2]\n",
      " [18  0]]\n",
      "\n",
      "y_train: [ 7.   9.  13.  17.5 18. ]\n"
     ]
    }
   ],
   "source": [
    "import numpy as np\n",
    "\n",
    "X_train = np.array(train_pizza_df[['diameter', 'n_topping']])\n",
    "y_train = np.array(train_pizza_df['harga'])\n",
    "\n",
    "print(f'X_train:\\n{X_train}\\n')\n",
    "print(f'y_train: {y_train}')"
   ]
  },
  {
   "cell_type": "markdown",
   "metadata": {},
   "source": [
    "- Mengkonversikan pandas data frame **test_pizza_df** menjadi **numpy array**. \n",
    "> `X_test = np.array(test_pizza_df[['diameter', 'n_topping']])`\n",
    "\n",
    "    > `y_test = np.array(test_pizza_df['harga'])`\n",
    "- Menampilkan sekumpulan nilai features `X_test` dan target `y_test`.\n",
    "> `print(f'X_test:\\n{X_test}\\n')`\n",
    "\n",
    "    > `print(f'y_test: {y_test}')`"
   ]
  },
  {
   "cell_type": "code",
   "execution_count": 4,
   "metadata": {},
   "outputs": [
    {
     "name": "stdout",
     "output_type": "stream",
     "text": [
      "X_test:\n",
      "[[ 8  2]\n",
      " [ 9  0]\n",
      " [11  2]\n",
      " [16  2]\n",
      " [12  0]]\n",
      "\n",
      "y_test: [11.   8.5 15.  18.  11. ]\n"
     ]
    }
   ],
   "source": [
    "X_test = np.array(test_pizza_df[['diameter', 'n_topping']])\n",
    "y_test = np.array(test_pizza_df['harga'])\n",
    "\n",
    "print(f'X_test:\\n{X_test}\\n')\n",
    "print(f'y_test: {y_test}')"
   ]
  },
  {
   "cell_type": "markdown",
   "metadata": {},
   "source": [
    "## Multiple Linear Regression\n",
    "Multiple Linear Regression merupakan generalisasi dari Simple Linear Regression yang dapat melibatkan banyak explanatory variables/features. Perbedaan Multiple Linear Regression dengan Simple Linear Regression terletak pada banyak explanatory variablesnya.\n",
    "- Simple Linear Regression hanya melibatkan 1 explanatory variable.\n",
    "- Multiple Linear Regression melibatkan lebih dari 1 explanatory variables.\n",
    "\n",
    "$y = \\alpha + \\beta_1x_1 + \\beta_2x_2 + \\dots + \\beta_nx_n$"
   ]
  },
  {
   "cell_type": "markdown",
   "metadata": {},
   "source": [
    "### Evaluasi *Multiple Regression Model* dengan *Coefficient of Determination* atau *R-squared* ($R^2$)\n",
    "Untuk melakukan evaluasi terhadap multiple regression model, kita dapat memanfaatkan R-squared.\n",
    "- Mengimport **LinearRegression** dari **sklearn.linear_model**\n",
    "> from sklearn.linear_model import LinearRegression\n",
    "- Mengimport **r2_score** dari **sklearn.metrics**\n",
    "> `from sklearn.metrics import r2_score`\n",
    "- Membuat object `LinearRegression()` yang akan ditampung oleh variable `model`\n",
    "> `model = LinearRegression()`\n",
    "- Memanggil method **fit()** yang disertai 2 parameter untuk melakukan training model.\n",
    "    - Parameter pertama berasosiasi dengan sekumpulan nilai features dari training dataset yaitu **X_train**.\n",
    "    - Parameter kedua berasosiasi dengan sekumpulan nilai target dari training dataset yaitu **y_train**.\n",
    "> `model.fit(X_train, y_train)`\n",
    "- Melakukan prediksi nilai target untuk sekumpulan nilai features yang ditampung variable X_test. Hasil prediksi ini akan ditampung oleh variable y_pred.\n",
    "> `y_pred = model.predict(X_test)`\n",
    "- Membandingkan sekumpulan nilai target yang ditampung oleh **y_test** dengan hasil prediksi yang ditampung **y_pred**. Proses evaluasi ini menggunakan method `r2_score()` yang akan menghasilkan nilai yang merepresentasikan kesesuaian dari kedua dataset tersebut. Semakin bagus dan akurat model yang dihasilkan, nilainya akan mendekati angka 1.\n",
    "> `r2_score(y_test, y_pred)`"
   ]
  },
  {
   "cell_type": "code",
   "execution_count": 5,
   "metadata": {},
   "outputs": [
    {
     "name": "stdout",
     "output_type": "stream",
     "text": [
      "r_squared: 0.7701677731318468\n"
     ]
    }
   ],
   "source": [
    "from sklearn.linear_model import LinearRegression\n",
    "from sklearn.metrics import r2_score\n",
    "\n",
    "model = LinearRegression()\n",
    "model.fit(X_train, y_train)\n",
    "y_pred = model.predict(X_test)\n",
    "    \n",
    "print(f'r_squared: {r2_score(y_test, y_pred)}')"
   ]
  },
  {
   "cell_type": "markdown",
   "metadata": {},
   "source": [
    "## Polynomial Regression\n",
    "Polynomial Regression memodelkan hubungan antara independent variable (features) $x$ dengan dependent variable (target) $y$ sebagai derajat polynomial dalam $x$."
   ]
  },
  {
   "cell_type": "markdown",
   "metadata": {},
   "source": [
    "### *Presprocessing Dataset*\n",
    "Untuk studi kasus polynomial regression kali ini, kita hanya akan menggunakan diameter sebagai featurenya. Karena hanya menggunakan 1 feature, kita perlu memanggiil `reshape(-1,1)` untuk menghasilkan numppy array 2 dimensi."
   ]
  },
  {
   "cell_type": "code",
   "execution_count": 6,
   "metadata": {},
   "outputs": [
    {
     "name": "stdout",
     "output_type": "stream",
     "text": [
      "X_train:\n",
      "[[ 6]\n",
      " [ 8]\n",
      " [10]\n",
      " [14]\n",
      " [18]]\n",
      "\n",
      "y_train: [ 7.   9.  13.  17.5 18. ]\n"
     ]
    }
   ],
   "source": [
    "X_train = np.array(train_pizza_df['diameter']).reshape(-1, 1)\n",
    "y_train = np.array(train_pizza_df['harga'])\n",
    "\n",
    "print(f'X_train:\\n{X_train}\\n')\n",
    "print(f'y_train: {y_train}')"
   ]
  },
  {
   "cell_type": "markdown",
   "metadata": {},
   "source": [
    "### *Polynomial Regression* : *Quadratic*\n",
    "$y = \\alpha + \\beta_1x + \\beta_2x^2$\n",
    "\n",
    "#### *Polynomial Features*\n",
    "- Untuk membuat object Quadratic Polynomial Regression, kita hanya perlu memanggil `PolynomialFeatures()` disertai oleh parameter `degree=2`\n",
    "- Mentranform X_train ke dalam quadratic polynomial feature yang hasilnya akan ditampung oleh **X_train_quadratic**"
   ]
  },
  {
   "cell_type": "code",
   "execution_count": 7,
   "metadata": {},
   "outputs": [
    {
     "name": "stdout",
     "output_type": "stream",
     "text": [
      "X_train_quadratic:\n",
      "[[  1.   6.  36.]\n",
      " [  1.   8.  64.]\n",
      " [  1.  10. 100.]\n",
      " [  1.  14. 196.]\n",
      " [  1.  18. 324.]]\n",
      "\n"
     ]
    }
   ],
   "source": [
    "from sklearn.preprocessing import PolynomialFeatures\n",
    "\n",
    "quadratic_feature = PolynomialFeatures(degree=2)\n",
    "X_train_quadratic = quadratic_feature.fit_transform(X_train)\n",
    "\n",
    "print(f'X_train_quadratic:\\n{X_train_quadratic}\\n')"
   ]
  },
  {
   "cell_type": "markdown",
   "metadata": {},
   "source": [
    "#### *Training Model*\n",
    "- Untuk melakukan training model, kita dapat memanggil method **fit()** yang disertai 2 parameter.\n",
    "    - Parameter pertama berasosiasi dengan sekumpulan nilai features dari training dataset yaitu **X_train_quadratic**.\n",
    "    - Parameter kedua berasosiasi dengan sekumpulan nilai target dari training dataset yaitu **y_train**.\n",
    "> `model.fit(X_train_quadratic, y_train)`"
   ]
  },
  {
   "cell_type": "code",
   "execution_count": 8,
   "metadata": {},
   "outputs": [
    {
     "data": {
      "text/plain": [
       "LinearRegression()"
      ]
     },
     "execution_count": 8,
     "metadata": {},
     "output_type": "execute_result"
    }
   ],
   "source": [
    "model = LinearRegression()\n",
    "model.fit(X_train_quadratic, y_train)"
   ]
  },
  {
   "cell_type": "markdown",
   "metadata": {},
   "source": [
    "#### Visualisasi Model\n",
    "- Mengimport matplotlib\n",
    "> `import matplotlib.pyplot as plt`\n",
    "- Membentuk sederet bilangan mulai dari 0-25 sebanyak 100 data point yang kemudian dikenakan `reshape(-1, 1)` dan hasilnya akan ditampung oleh variable `X_vis`.\n",
    "> `X_vis = np.linspace(0, 25, 100).reshape(-1, 1)`\n",
    "- Mentransform X_vis ke dalam bentuk quadratic_features dan hasilnya akan ditampung oleh variable `X_vis_quadratic`\n",
    "> `X_vis_quadratic = quadratic_feature.transform(X_vis)`\n",
    "- Melakukan prediksi dengan memanggil method `model.predict(X_vis_quadratic)` yang hasilnya akan ditampung oleh variable `y_vis_quadratic`\n",
    "> `y_vis_quadratic = model.predict(X_vis_quadratic)`\n",
    "\n",
    "- Membuat scatter plot dari dataset sebelumnya yang terdiri atas X_train sebagai features dan y_train sebagai target. Hasil plotting berupa 5 marker bulat berwarna biru yang merepresentasikan hubungan antara diameter dan harga pizza.\n",
    "> `plt.scatter(X_train, y_train)`\n",
    "- Membuat plotting untuk menggambarkan hubungan antara X_vis dengan nilai y_vis_quadratic nya yang dihasilkan dari hasil prediksi berdasarkan model. Hasil plotting digambarkan melalui garis linear berwarna merah.\n",
    "> `plt.plot(X_vis, y_vis_quadratic, '-r')`\n",
    "\n",
    "- Menentukan judul, xlabel, dan ylabel dari plotting yang dihasilkan.\n",
    "> `plt.title('Perbandingan Diameter dan Harga Pizza')`\n",
    "    \n",
    "    > `plt.xlabel('Diameter (inch)')`\n",
    "\n",
    "    > `plt.ylabel('Harga (dollar)')`\n",
    "- Menentukan jangkauan dari sumbu-x dan sumbu-y yaitu 0-25.\n",
    "> `plt.xlim(0, 25)`\n",
    "\n",
    "    > `plt.ylim(0, 25)`\n",
    "- Mengaktifkan fiture grid pada hasil plotting.\n",
    "> `plt.grid(True)`\n",
    "- Menampilkan hasil plotting.\n",
    "> `plt.show()`"
   ]
  },
  {
   "cell_type": "code",
   "execution_count": 9,
   "metadata": {},
   "outputs": [
    {
     "data": {
      "image/png": "[encoded data removed]",
      "text/plain": [
       "<Figure size 432x288 with 1 Axes>"
      ]
     },
     "metadata": {
      "needs_background": "light"
     },
     "output_type": "display_data"
    }
   ],
   "source": [
    "import matplotlib.pyplot as plt\n",
    "\n",
    "X_vis = np.linspace(0, 25, 100).reshape(-1, 1)\n",
    "X_vis_quadratic = quadratic_feature.transform(X_vis)\n",
    "y_vis_quadratic = model.predict(X_vis_quadratic)\n",
    "\n",
    "plt.scatter(X_train, y_train)\n",
    "plt.plot(X_vis, y_vis_quadratic, '-r')\n",
    "\n",
    "plt.title('Perbandingan Diameter dan Harga Pizza')\n",
    "plt.xlabel('Diameter (inch)')\n",
    "plt.ylabel('Harga (dollar)')\n",
    "plt.xlim(0, 25)\n",
    "plt.ylim(0, 25)\n",
    "plt.grid(True)\n",
    "plt.show()"
   ]
  },
  {
   "cell_type": "markdown",
   "metadata": {},
   "source": [
    "### Polynomial Regression: Quadratic vs Cubic"
   ]
  },
  {
   "cell_type": "code",
   "execution_count": 10,
   "metadata": {},
   "outputs": [
    {
     "data": {
      "image/png": "[encoded data removed]",
      "text/plain": [
       "<Figure size 432x288 with 1 Axes>"
      ]
     },
     "metadata": {
      "needs_background": "light"
     },
     "output_type": "display_data"
    }
   ],
   "source": [
    "# Training Set\n",
    "plt.scatter(X_train, y_train)\n",
    "\n",
    "# Linear\n",
    "model = LinearRegression()\n",
    "model.fit(X_train, y_train)\n",
    "X_vis = np.linspace(0, 25, 100).reshape(-1, 1)\n",
    "y_vis = model.predict(X_vis)\n",
    "plt.plot(X_vis, y_vis, '--r', label='linear')\n",
    "\n",
    "# Quadratic\n",
    "quadratic_feature = PolynomialFeatures(degree=2)\n",
    "X_train_quadratic = quadratic_feature.fit_transform(X_train)\n",
    "model = LinearRegression()\n",
    "model.fit(X_train_quadratic, y_train)\n",
    "X_vis_quadratic = quadratic_feature.transform(X_vis)\n",
    "y_vis = model.predict(X_vis_quadratic)\n",
    "plt.plot(X_vis, y_vis, '--g', label='quadratic')\n",
    "\n",
    "# Cubic\n",
    "cubic_feature = PolynomialFeatures(degree=3)\n",
    "X_train_cubic = cubic_feature.fit_transform(X_train)\n",
    "model = LinearRegression()\n",
    "model.fit(X_train_cubic, y_train)\n",
    "X_vis_cubic = cubic_feature.transform(X_vis)\n",
    "y_vis = model.predict(X_vis_cubic)\n",
    "plt.plot(X_vis, y_vis, '--y', label='cubic')\n",
    "\n",
    "plt.title('Perbandingan Diameter dan Harga Pizza')\n",
    "plt.xlabel('Diameter (inch)')\n",
    "plt.ylabel('Harga (dollar)')\n",
    "plt.legend()\n",
    "plt.xlim(0, 25)\n",
    "plt.ylim(0, 25)\n",
    "plt.grid(True)\n",
    "plt.show()"
   ]
  }
 ],
 "metadata": {
  "kernelspec": {
   "display_name": "Python 3",
   "language": "python",
   "name": "python3"
  },
  "language_info": {
   "codemirror_mode": {
    "name": "ipython",
    "version": 3
   },
   "file_extension": ".py",
   "mimetype": "text/x-python",
   "name": "python",
   "nbconvert_exporter": "python",
   "pygments_lexer": "ipython3",
   "version": "3.8.3"
  }
 },
 "nbformat": 4,
 "nbformat_minor": 4
}
