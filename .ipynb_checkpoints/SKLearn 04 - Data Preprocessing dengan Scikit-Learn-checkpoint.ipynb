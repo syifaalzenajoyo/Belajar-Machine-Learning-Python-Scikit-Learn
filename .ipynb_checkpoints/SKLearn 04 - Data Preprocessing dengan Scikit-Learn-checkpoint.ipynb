{
 "cells": [
  {
   "cell_type": "markdown",
   "metadata": {},
   "source": [
    "# SKLearn 04 - *Data Preprocessing* dengan *Scikit-Learn*"
   ]
  },
  {
   "cell_type": "markdown",
   "metadata": {},
   "source": [
    "## *Sample Dataset*\n",
    "- Dataset akan digenerate sebagai numpy array, sehingga kita perlu melakukan import **numpy**\n",
    "> `import numpy as np`\n",
    "- Mengimport modul **preprocessing** dari sklearn\n",
    "> `from sklearn import preprocessing`\n",
    "- Kali ini kita akan membuat dataset yang terdiri dari 4 baris, dimana setiap baris memiliki 3 features.\n",
    "> `sample_data = np.array([[2.1, -1.9, 5.5], [-1.5, 2.4, 3.5], [0.5, -7.9, 5.6], [5.9, 2.3, -5.8]])`\n",
    "- Menampilkan dataset yang ditampung oleh **sample_data**\n",
    "> `sample_data`"
   ]
  },
  {
   "cell_type": "code",
   "execution_count": 1,
   "metadata": {
    "scrolled": true
   },
   "outputs": [
    {
     "data": {
      "text/plain": [
       "array([[ 2.1, -1.9,  5.5],\n",
       "       [-1.5,  2.4,  3.5],\n",
       "       [ 0.5, -7.9,  5.6],\n",
       "       [ 5.9,  2.3, -5.8]])"
      ]
     },
     "execution_count": 1,
     "metadata": {},
     "output_type": "execute_result"
    }
   ],
   "source": [
    "import numpy as np\n",
    "from sklearn import preprocessing\n",
    "\n",
    "sample_data = np.array([[2.1, -1.9, 5.5], [-1.5, 2.4, 3.5], [0.5, -7.9, 5.6], [5.9, 2.3, -5.8]])\n",
    "sample_data"
   ]
  },
  {
   "cell_type": "markdown",
   "metadata": {},
   "source": [
    "- Memanggil `sample_data.shape` untuk mnampilkan dimensi dari dataset `sample_data`. Pemanggilan ini akan menghasilkan **`(4, 3)`** yang berarti bahwa dataset tersebut memiliki 4 baris dan 3 kolom atau features."
   ]
  },
  {
   "cell_type": "code",
   "execution_count": 2,
   "metadata": {},
   "outputs": [
    {
     "data": {
      "text/plain": [
       "(4, 3)"
      ]
     },
     "execution_count": 2,
     "metadata": {},
     "output_type": "execute_result"
    }
   ],
   "source": [
    "sample_data.shape"
   ]
  },
  {
   "cell_type": "markdown",
   "metadata": {},
   "source": [
    "## *Binarisation*\n",
    "Teknik ***binarisation*** bertujuan untuk menghasilkan suatu data yang terdiri dari 2 nilai numerik saja, yaitu 0 dan 1.\n",
    "- Menampilkan dataset `sample_data` \n",
    "> `sample_data`"
   ]
  },
  {
   "cell_type": "code",
   "execution_count": 3,
   "metadata": {},
   "outputs": [
    {
     "data": {
      "text/plain": [
       "array([[ 2.1, -1.9,  5.5],\n",
       "       [-1.5,  2.4,  3.5],\n",
       "       [ 0.5, -7.9,  5.6],\n",
       "       [ 5.9,  2.3, -5.8]])"
      ]
     },
     "execution_count": 3,
     "metadata": {},
     "output_type": "execute_result"
    }
   ],
   "source": [
    "sample_data"
   ]
  },
  {
   "cell_type": "markdown",
   "metadata": {},
   "source": [
    "Dataset `sample_data` memiliki nilai floating-point yang beragam. Pada studi kasus kali ini, kita diminta untuk mengkonversi semua nilai pada `sample_data` menjadi 0 atau 1 dengan ketentuan bahwa **untuk setiap nilai yang lebih besar dari 0.5 akan dikonversi menjadi 1 dan untuk sisanya akan dikonversi menjadi 0**.\n",
    "- Membentuk object binarizer dengan nilai parameter thresholdnya yaitu 0.5. *Nilai parameter threshold=0.5 berarti bahwa untuk `nilai yang lebih kecil atau sama dengan` 0.5 akan dikonversi menjadi `0` dan untuk `nilai yang lebih besar dari` 0.5 akan dikonversi menjadi `1`*. Object binarizer tersebut akan ditampung oleh variabel `preprocessor`. \n",
    "> `preprocessor = preprocessing.Binarizer(threshold=0.5)`\n",
    "- Melakukan transform terhadap `sample_data` dengan memanggil `preprocessor.transform()` dan hasil tranformasinya akan ditampung oleh variabel `binarised_data`\n",
    "> `binarised_data = preprocessor.transform(sample_data)`"
   ]
  },
  {
   "cell_type": "code",
   "execution_count": 4,
   "metadata": {},
   "outputs": [
    {
     "data": {
      "text/plain": [
       "array([[1., 0., 1.],\n",
       "       [0., 1., 1.],\n",
       "       [0., 0., 1.],\n",
       "       [1., 1., 0.]])"
      ]
     },
     "execution_count": 4,
     "metadata": {},
     "output_type": "execute_result"
    }
   ],
   "source": [
    "preprocessor = preprocessing.Binarizer(threshold=0.5)\n",
    "preprocessor\n",
    "binarised_data = preprocessor.transform(sample_data)\n",
    "binarised_data"
   ]
  },
  {
   "cell_type": "markdown",
   "metadata": {},
   "source": [
    "## *Scaling*\n",
    "Tujuan dari teknik ***scaling*** adalah untuk menghasilkan data numerik yang berada dalam rentang skala tertentu.\n",
    "- Menampilkan dataset `sample_data`\n",
    "> `sample_data`"
   ]
  },
  {
   "cell_type": "code",
   "execution_count": 5,
   "metadata": {},
   "outputs": [
    {
     "data": {
      "text/plain": [
       "array([[ 2.1, -1.9,  5.5],\n",
       "       [-1.5,  2.4,  3.5],\n",
       "       [ 0.5, -7.9,  5.6],\n",
       "       [ 5.9,  2.3, -5.8]])"
      ]
     },
     "execution_count": 5,
     "metadata": {},
     "output_type": "execute_result"
    }
   ],
   "source": [
    "sample_data"
   ]
  },
  {
   "cell_type": "markdown",
   "metadata": {},
   "source": [
    "Dataset `sample_data` terdiri atas nilai floating point dengan rentang nilai **-7.9 sampai dengan 5.9**. Pada studi kasus kali ini, kita diminta untuk mengkonversi nilai numerik tersebut ke dalam rentang nilai **0 sampai dengan 1**.\n",
    "- Pada kesempatan kali ini, kita akan menggunakan scaling jenis `MinMaxScaler`.\n",
    "> `preprocessor = preprocessing.MinMaxScaler(feature_range=(0, 1))`\n",
    "- Object scaler yang dihasilkan akan kita fit terhadap `sample_data`.\n",
    "> `preprocessor.fit(sample_data)`\n",
    "- Melakukan transform terhadap `sample_data` dengan memanggil `preprocessor.transform()` dan hasil tranformasinya akan ditampung oleh variabel `scaled_data`.\n",
    "> `scaled_data = preprocessor.transform(sample_data)`"
   ]
  },
  {
   "cell_type": "code",
   "execution_count": 6,
   "metadata": {},
   "outputs": [
    {
     "data": {
      "text/plain": [
       "array([[0.48648649, 0.58252427, 0.99122807],\n",
       "       [0.        , 1.        , 0.81578947],\n",
       "       [0.27027027, 0.        , 1.        ],\n",
       "       [1.        , 0.99029126, 0.        ]])"
      ]
     },
     "execution_count": 6,
     "metadata": {},
     "output_type": "execute_result"
    }
   ],
   "source": [
    "preprocessor = preprocessing.MinMaxScaler(feature_range=(0, 1))\n",
    "preprocessor.fit(sample_data)\n",
    "scaled_data = preprocessor.transform(sample_data)\n",
    "scaled_data"
   ]
  },
  {
   "cell_type": "markdown",
   "metadata": {},
   "source": [
    "- Kita dapat menyatukan proses fitting dan transform pada dataset yang sama secara sekaligus dengan memanggil method `fit_transform()`.\n",
    "> `scaled_data = preprocessor.fit_transform(sample_data)`"
   ]
  },
  {
   "cell_type": "code",
   "execution_count": 7,
   "metadata": {},
   "outputs": [
    {
     "data": {
      "text/plain": [
       "array([[0.48648649, 0.58252427, 0.99122807],\n",
       "       [0.        , 1.        , 0.81578947],\n",
       "       [0.27027027, 0.        , 1.        ],\n",
       "       [1.        , 0.99029126, 0.        ]])"
      ]
     },
     "execution_count": 7,
     "metadata": {},
     "output_type": "execute_result"
    }
   ],
   "source": [
    "scaled_data = preprocessor.fit_transform(sample_data)\n",
    "scaled_data"
   ]
  },
  {
   "cell_type": "markdown",
   "metadata": {},
   "source": [
    "## *L1 Normalization: Least Absolute Deviations*\n",
    "Tujuan dari teknik ***normalization*** adalah untuk melakukan normalisasi terhadap data numerik yang kita miliki. \n",
    "- Menampilkan dataset `sample_data`\n",
    "> `sample_data`"
   ]
  },
  {
   "cell_type": "code",
   "execution_count": 8,
   "metadata": {},
   "outputs": [
    {
     "data": {
      "text/plain": [
       "array([[ 2.1, -1.9,  5.5],\n",
       "       [-1.5,  2.4,  3.5],\n",
       "       [ 0.5, -7.9,  5.6],\n",
       "       [ 5.9,  2.3, -5.8]])"
      ]
     },
     "execution_count": 8,
     "metadata": {},
     "output_type": "execute_result"
    }
   ],
   "source": [
    "sample_data"
   ]
  },
  {
   "cell_type": "markdown",
   "metadata": {},
   "source": [
    "- Memanggil `preprocessing.normalize()` yang disertai oleh 2 parameter.\n",
    "    - Parameter pertama adalah dataset yang akan dilakukan normalisasi.\n",
    "    - Parameter kedua adalah jenis normalisasi yang akan dikenakan ke dataset. Kali ini kita akan melakukan L1 Normalization, sehingga kita akan menentukan parameternya adalah `norm='l1'`.\n",
    "> `l1_normalised_data = preprocessing.normalize(sample_data, norm='l1')`"
   ]
  },
  {
   "cell_type": "code",
   "execution_count": 9,
   "metadata": {},
   "outputs": [
    {
     "data": {
      "text/plain": [
       "array([[ 0.22105263, -0.2       ,  0.57894737],\n",
       "       [-0.2027027 ,  0.32432432,  0.47297297],\n",
       "       [ 0.03571429, -0.56428571,  0.4       ],\n",
       "       [ 0.42142857,  0.16428571, -0.41428571]])"
      ]
     },
     "execution_count": 9,
     "metadata": {},
     "output_type": "execute_result"
    }
   ],
   "source": [
    "l1_normalised_data = preprocessing.normalize(sample_data, norm='l1')\n",
    "l1_normalised_data"
   ]
  },
  {
   "cell_type": "markdown",
   "metadata": {},
   "source": [
    "## *L2 Normalization: Least Squares*\n",
    "- Menampilkan dataset `sample_data`\n",
    "> `sample_data`"
   ]
  },
  {
   "cell_type": "code",
   "execution_count": 10,
   "metadata": {},
   "outputs": [
    {
     "data": {
      "text/plain": [
       "array([[ 2.1, -1.9,  5.5],\n",
       "       [-1.5,  2.4,  3.5],\n",
       "       [ 0.5, -7.9,  5.6],\n",
       "       [ 5.9,  2.3, -5.8]])"
      ]
     },
     "execution_count": 10,
     "metadata": {},
     "output_type": "execute_result"
    }
   ],
   "source": [
    "sample_data"
   ]
  },
  {
   "cell_type": "markdown",
   "metadata": {},
   "source": [
    "- Memanggil `preprocessing.normalize()` yang disertai oleh 2 parameter.\n",
    "    - Parameter pertama adalah dataset yang akan dilakukan normalisasi.\n",
    "    - Parameter kedua adalah jenis normalisasi yang akan dikenakan ke dataset. Kali ini kita akan melakukan L2 Normalization, sehingga kita akan menentukan parameternya adalah `norm='l2'`.\n",
    "> `l2_normalised_data = preprocessing.normalize(sample_data, norm='l2')`"
   ]
  },
  {
   "cell_type": "code",
   "execution_count": 11,
   "metadata": {},
   "outputs": [
    {
     "data": {
      "text/plain": [
       "array([[ 0.33946114, -0.30713151,  0.88906489],\n",
       "       [-0.33325106,  0.53320169,  0.7775858 ],\n",
       "       [ 0.05156558, -0.81473612,  0.57753446],\n",
       "       [ 0.68706914,  0.26784051, -0.6754239 ]])"
      ]
     },
     "execution_count": 11,
     "metadata": {},
     "output_type": "execute_result"
    }
   ],
   "source": [
    "l2_normalised_data = preprocessing.normalize(sample_data, norm='l2')\n",
    "l2_normalised_data"
   ]
  }
 ],
 "metadata": {
  "kernelspec": {
   "display_name": "Python 3",
   "language": "python",
   "name": "python3"
  },
  "language_info": {
   "codemirror_mode": {
    "name": "ipython",
    "version": 3
   },
   "file_extension": ".py",
   "mimetype": "text/x-python",
   "name": "python",
   "nbconvert_exporter": "python",
   "pygments_lexer": "ipython3",
   "version": "3.8.3"
  }
 },
 "nbformat": 4,
 "nbformat_minor": 4
}
