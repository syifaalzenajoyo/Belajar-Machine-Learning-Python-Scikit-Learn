{
 "cells": [
  {
   "cell_type": "markdown",
   "metadata": {},
   "source": [
    "# SKLearn 01 - Pengenalan *Machine Learning*"
   ]
  },
  {
   "cell_type": "markdown",
   "metadata": {},
   "source": [
    "## Apa itu *Machine Learning*?\n",
    "- *Machine Learning is a study that gives computers the ability to learn without being explicitly programmed* **(Arthur Samuel, 1959)**.\n",
    "- *A computer program is said to learn from experience E with respect to some class of tasks T and performance measure P, if its performance at tasks in T, as measured by P, improves with experience E* **(Tom Mitchell. 1997)**. \n",
    "  \n",
    "  *For example, a computer program that learns to play chess might improve its performance as measured by its ability to win at the class of tasks involving playing chess, through experience obtained by playing chess against itself*. \n",
    "    - *Task `T` is playing chess*\n",
    "    - *Performance measure `P` is the percentage of games won against opponents*\n",
    "    - *Training experience `E` is the program playing practice chess games against itself*\n",
    "    (https://subscription.packtpub.com/book/big_data_and_business_intelligence/9781788629355/1/ch01lvl1sec10/definition-of-machine-learning)\n",
    "\n",
    "- *Machine learning is a branch of artificial intelligence (AI) and computer science which focuses on the use of data and algorithms to imitate the way that humans learn, gradually improving its accuracy* **(IBM)**.\n",
    "- Machine Learning adalah bidang ilmu yang memampukan suatu program komputer untuk belajar dari sekumpulan data."
   ]
  },
  {
   "cell_type": "markdown",
   "metadata": {},
   "source": [
    "## *Learning Problem*\n",
    "- *Learning problem* dalam konteks *Machine Learning* melibatkan suatu dataset (terdiri dari sejumlah sample data) untuk melakukan prediksi terhadap properties yang tidak diketahui pada dataset lain yang sejenis.\n",
    "- Terdapat 2 jenis *learning problem*, yaitu:\n",
    "    1. ***Supervised Learning Problem***, program **memprediksi suatu nilai output untuk suatu input berdasarkan proses learning dengan memanfaatkan sekumpulan data yang terbagi dalam dua label**, yaitu input dan output. Program tersebut melakukan learning dari sekumpulan contoh kasus (*examples*) yang **menyertakan** \"jawaban benar\".\n",
    "    2. ***Unsupervised Learning Problem***, program tidak melakukan *learning* dari *labeled data*, tetapi **mencoba menemukan pola (patterns) pada data**. Program melakukan *learning* dari sekumpulan contoh kasus (*examples*) **tanpa menyertakan** \"jawaban benar\"."
   ]
  },
  {
   "cell_type": "markdown",
   "metadata": {},
   "source": [
    "## Terminologi Dasar pada *Supervised Learning*\n",
    "- ***output***: *label, response variable, dependent variable, regressand, criterion variable, measured variable, responding variable, explained variable, outcome variable, experimental variable, and output variable*.\n",
    "- **input**: *features, explanatory variables, predictors, regressors, controlled variables, and exposure variables*.\n",
    "- **training set**: Sekumpulan contoh yang digunakan dalam proses *learning (training)* pada *Supervised learning*.\n",
    "- **test set**: Sekumpulan contoh yang digunakan untuk mengukur performa pada *Supervised learning*.\n",
    "- Pada *supervised learning*, ***response variable*** bisa dianalogikan sebagai **kunci jawaban** dan ***explanatory variables*** bisa dianalogikan sebagai **pertanyaannya**."
   ]
  },
  {
   "cell_type": "markdown",
   "metadata": {},
   "source": [
    "## *Supervised Machine Learning Tasks*\n",
    "- Terdapat 2 jenis *Supervised Machine Learning Tasks*, yaitu:\n",
    "    1. ***Classification tasks***, menekankan pada proses *learning (training)* untuk melakukan prediksi **nilai *discrete(i.e., category, class, label)*** dari sejumlah *features*.\n",
    "    2. ***Regression tasks***, menekankan pada proses *learning (training)* untuk melakukan prediksi **nilai *continuos(floating point)*** dari sejumlah *features*."
   ]
  },
  {
   "cell_type": "markdown",
   "metadata": {},
   "source": [
    "## *Unsupervised Machine Learning Tasks*\n",
    "- Terdapat banyak jenis *Unsupervised Machine Learning Tasks*, seperti:\n",
    "    1. ***Clustering Tasks***, menekankan pada proses explorasi data untuk **menemukan kelompok (*group*) pada data berdasarkan kemiripan (kedekatan) karakteristik**.\n",
    "    2. ***Dimensionality Reduction Tasks***, menekankan pada proses explorasi data untuk **menemukan sejumlah features yang paling berdampak terhadap response variable**."
   ]
  }
 ],
 "metadata": {
  "kernelspec": {
   "display_name": "Python 3",
   "language": "python",
   "name": "python3"
  },
  "language_info": {
   "codemirror_mode": {
    "name": "ipython",
    "version": 3
   },
   "file_extension": ".py",
   "mimetype": "text/x-python",
   "name": "python",
   "nbconvert_exporter": "python",
   "pygments_lexer": "ipython3",
   "version": "3.8.3"
  }
 },
 "nbformat": 4,
 "nbformat_minor": 4
}
